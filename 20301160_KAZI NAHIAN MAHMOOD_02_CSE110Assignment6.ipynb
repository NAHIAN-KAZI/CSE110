{
 "cells": [
  {
   "cell_type": "markdown",
   "metadata": {
    "colab_type": "text",
    "id": "ZXvFDb3VLf5p"
   },
   "source": [
    "# CSE110 Assignment 6\n",
    "This assignment is to guide you to solve everything you have learned so far by implementing Exceptions in Python. \n",
    "\n",
    "**<font color='red'>[MUST MAINTAIN VARIABLE NAMING CONVENTIONS FOR ALL THE TASKS]</font>**\n",
    "\n",
    "## Write the Python code of the following problems:\n"
   ]
  },
  {
   "cell_type": "markdown",
   "metadata": {
    "colab_type": "text",
    "id": "tZow-v3MLoLE"
   },
   "source": [
    "### Task 1\n",
    "Given a list named my_list.\n",
    "my_list=[10,20,30,40,60,100,2,5]\n",
    "\n",
    "Write a python program that takes the position as an input from the user and prints the element of that position from the list. \n",
    "\n",
    "If the user’s input position is not in the range, return an exception stating “Index out of range”.\n",
    "\n",
    "Make sure your program always prints “Program ended” at the end, no matter what happens.\n",
    "\n",
    "Hint: Use finally block\n",
    "\n",
    "**Example 1:** \\\n",
    "**Input:**\\\n",
    "1\\\n",
    "**Output:**\\\n",
    "20\\\n",
    "Program ended\n",
    "\n",
    "=============================\n",
    "\n",
    "**Example 2:** \\\n",
    "**Input:**\\\n",
    "10\\\n",
    "**Output:**\\\n",
    "Index out of range.\\\n",
    "Program ended\n"
   ]
  },
  {
   "cell_type": "code",
   "execution_count": 1,
   "metadata": {
    "colab": {},
    "colab_type": "code",
    "id": "c9yKuS5kLdDO"
   },
   "outputs": [
    {
     "name": "stdout",
     "output_type": "stream",
     "text": [
      "Enter a position:7\n",
      "2\n",
      "program ended\n"
     ]
    }
   ],
   "source": [
    "try:\n",
    "    my_list = [10,20,30,40,50,60,100,2,5]\n",
    "    user_index = int(input(\"Enter a position:\"))\n",
    "    for x in my_list:\n",
    "        if user_index not in range(9):\n",
    "            print(\"Index out of range\")\n",
    "            break\n",
    "\n",
    "        else:\n",
    "            print(my_list[user_index])\n",
    "            break\n",
    "finally:\n",
    "    print(\"program ended\")\n",
    "\n"
   ]
  },
  {
   "cell_type": "markdown",
   "metadata": {
    "colab_type": "text",
    "id": "gD4MMyO_Mtw4"
   },
   "source": [
    "### Task 2\n",
    "\n",
    "Suppose you have a dictionary named my_dictionary containing the name of some groceries and their prices.\\\n",
    "my_dictionary={“Potato”:12, “Onion”:16, “Ginger”:15, “Garlic”:12, “Tomato”:15}\n",
    "\n",
    "Now write a python program that takes the grocerie names as input from the users and shows the total price of the groceries.\n",
    "\n",
    "Some exceptions to handle:\n",
    "* Handle the exception when the given key is not present in the dictionary.\n",
    "* Handle the exception when the summation variable is not initialized.\n",
    "\n",
    "**Example 1:** \\\n",
    "**Input:**\\\n",
    "Potato,Onion,Ginger\\\n",
    "**Output:**\\\n",
    "43\n",
    "\n",
    "=============================\n",
    "\n",
    "**Example 2:** \\\n",
    "**Input:**\\\n",
    "Potato,Onion,Ginger,Beef\\\n",
    "**Output:**\\\n",
    "Some groceries are not available in the dictionary.\n"
   ]
  },
  {
   "cell_type": "code",
   "execution_count": 2,
   "metadata": {
    "colab": {},
    "colab_type": "code",
    "id": "15umlUXTNe5N"
   },
   "outputs": [
    {
     "name": "stdout",
     "output_type": "stream",
     "text": [
      "Enter name of the items:potato,onion,ginger\n",
      "43\n"
     ]
    }
   ],
   "source": [
    "my_dictionary = {\"Potato\": 12, \"Onion\": 16, \"Ginger\": 15, \"Garlic\": 12, \"Tomato\": 15}\n",
    "grocery_list = input(\"Enter name of the items:\").split(\",\")\n",
    "try:\n",
    "    total_price = 0\n",
    "    sorted_items = []\n",
    "    for items in grocery_list:\n",
    "        new = items[0].upper()+items[1:].lower()\n",
    "        sorted_items.append(new)\n",
    "    for items in sorted_items:\n",
    "        total_price += my_dictionary[items]\n",
    "except NameError:\n",
    "    print(\"Summation variable is not initialized!\")\n",
    "except KeyError:\n",
    "    print(\"Some groceries are not available  in the dictionary\")\n",
    "else:\n",
    "    print(total_price)\n",
    "\n"
   ]
  },
  {
   "cell_type": "markdown",
   "metadata": {
    "colab_type": "text",
    "id": "l5SgF6kTN7vY"
   },
   "source": [
    "### Task 3\n",
    "Write a python program that takes two lists as input from the user, multiplies the index wise elements of the two lists and adds it to a new variable. While doing the program you should handle the following exceptions:\n",
    "* Return an exception when the new variable is not declared stating “The new variable is not declared”.\n",
    "* Return an exception if an element in a list is not a number stating “The list has some non number values”.\n",
    "* Return an exception if there is an index out of bound stating “Index out of bound”.\n",
    "\n",
    "**Example 1:** \\\n",
    "**Input:**\\\n",
    "list_one = [1, a, 2, 4]\\\n",
    "List_two =[5, 6, 7, 8]\\\n",
    "**Output:**\\\n",
    "The list has some non number values\n",
    "\n",
    "=================\n",
    "\n",
    "**Example 2:** \\\n",
    "**Input:**\\\n",
    "list_one=[1, 2, 3, 4, 5]\\\n",
    "list_two=[1, 2, 3, 4]\\\n",
    "**Output:**\\\n",
    "Index out of bound\n",
    "\n",
    "=================\n",
    "\n",
    "**Example 3:** \\\n",
    "**Input:**\\\n",
    "list_one=[1,2,3,4]\\\n",
    "list_two=[5,6,7,8]\\\n",
    "**Output:**\\\n",
    "70\n",
    "\n",
    "\n"
   ]
  },
  {
   "cell_type": "code",
   "execution_count": 9,
   "metadata": {
    "colab": {},
    "colab_type": "code",
    "id": "oFpEZFRhOlvV"
   },
   "outputs": [
    {
     "name": "stdout",
     "output_type": "stream",
     "text": [
      "list1:1,2,3\n",
      "list2:4,5,6\n",
      "list1: ['1', '2', '3']\n",
      "list2: ['4', '5', '6']\n",
      "32\n"
     ]
    }
   ],
   "source": [
    "user1 = input(\"list1:\")\n",
    "user2 = input(\"list2:\")\n",
    "list1= user1.split(\",\")\n",
    "list2= user2.split(\",\")\n",
    "print(\"list1:\",list1)\n",
    "print(\"list2:\",list2)\n",
    "sum = 0\n",
    "if len(list1) >= len(list2):\n",
    "    index = len(list1)\n",
    "else:\n",
    "    index = len(list2)\n",
    "try:\n",
    "    for x in range(index):\n",
    "        y = int(list1[x])\n",
    "        z = int(list2[x])\n",
    "        sum = sum + (y*z)\n",
    "    print(sum)\n",
    "except IndexError:\n",
    "    print(\"Index out of bound\")\n",
    "except ValueError:\n",
    "    print(\"The list has some non number values\")\n",
    "except Exception:\n",
    "    print(\"The new variable is not declared\")\n"
   ]
  },
  {
   "cell_type": "markdown",
   "metadata": {
    "colab_type": "text",
    "id": "iBqIUN-WOnvW"
   },
   "source": [
    "### Task 4\n",
    "Write a python program that will take a string input from the user. Your task is to count the number of vowels and consonants in the string.\n",
    "\n",
    "Using try, if the number of vowels is greater than or equal to the number of consonants than raise a runtime error. Print 'Number of vowels greater/equal to consonants. Please, paraphrase'.\\\n",
    "Otherwise, print 'The sentence will work'. \n",
    "\n",
    "**Note:** a,e,i,o,u are called vowels and all the other 21 english alphabets are consonants.\n",
    "\n",
    "**Example 1:** \\\n",
    "**Input:**\\\n",
    "'his age is 10'\\\n",
    "**Output:**\\\n",
    "Number of vowels is greater/equal. Paraphrase the sentence\n",
    "\n",
    "=================\n",
    "\n",
    "**Example 2:** \\\n",
    "**Input:**\\\n",
    "'he is 10 years old'\\\n",
    "**Output:**\\\n",
    "The sentence will work"
   ]
  },
  {
   "cell_type": "code",
   "execution_count": 7,
   "metadata": {
    "colab": {},
    "colab_type": "code",
    "id": "-4kg2W2EPwVo"
   },
   "outputs": [
    {
     "name": "stdout",
     "output_type": "stream",
     "text": [
      "Enter a sentence:let's play football\n",
      "The sentence will work\n"
     ]
    }
   ],
   "source": [
    "try:\n",
    "    string =input(\"Enter a sentence:\").lower()\n",
    "    vowels = \"aeiou\"\n",
    "    vowel_count = 0\n",
    "    consonant_count = 0\n",
    "    for x in range(len(string)):\n",
    "        if string[x] in vowels:\n",
    "            vowel_count += 1\n",
    "        else:\n",
    "            if string[x] >= \"a\" and string[x]<=\"z\":\n",
    "                consonant_count+=1\n",
    "    if vowel_count >= consonant_count:\n",
    "        raise RuntimeError()\n",
    "except RuntimeError:\n",
    "    print(\"Number of vowels is greater/equal.Please,paraphrase.\")\n",
    "else:\n",
    "    print(\"The sentence will work\")\n"
   ]
  },
  {
   "cell_type": "markdown",
   "metadata": {
    "colab_type": "text",
    "id": "pl4CDeUkPxeM"
   },
   "source": [
    "### Task 5\n",
    "Write a python program that finds the corresponding energy values from a list of frequency values which are taken as input from the user, using the formula, $E=h*f$, where h is a constant of value: 1050\n",
    "\n",
    "Exceptions to handle:\n",
    "* Make sure all elements in the lists are numbers\n",
    "\n",
    "\n",
    "**Example 1:** \\\n",
    "**Input:**\\\n",
    "[$2$,$3$]\\\n",
    "**Output:**\\\n",
    "[$2100$, $3150$]\n",
    "\n",
    "=================\n",
    "\n",
    "**Example 2:** \\\n",
    "**Input:**\\\n",
    "[2,boss]\\\n",
    "**Output:**\\\n",
    "Wrong input type"
   ]
  },
  {
   "cell_type": "code",
   "execution_count": 11,
   "metadata": {
    "colab": {},
    "colab_type": "code",
    "id": "vdYQH9qnQvVo"
   },
   "outputs": [
    {
     "name": "stdout",
     "output_type": "stream",
     "text": [
      "list:2,3\n",
      "list: ['2', '3']\n",
      "[2100, 3150]\n"
     ]
    }
   ],
   "source": [
    "user = input(\"list:\")\n",
    "list = user.split(\",\")\n",
    "print(\"list:\",list)\n",
    "try:\n",
    "    new_list = []\n",
    "    h = 1050\n",
    "    for f in range(len(list)):\n",
    "        E =h*int(list[f])\n",
    "        new_list.append(E)\n",
    "except ValueError:\n",
    "    print(\"Wrong input type\")\n",
    "else:\n",
    "    print(new_list)\n",
    "\n"
   ]
  },
  {
   "cell_type": "markdown",
   "metadata": {
    "colab_type": "text",
    "id": "RdshPzpJRcsD"
   },
   "source": [
    "### Task 6\n",
    "Write a python function that will remove a given character from a sentence based on the starting and ending index of the sentence. In the place of the removed characters, add the count of the number of characters removed so far. For this program, you need to take 4 user inputs.\n",
    "* Sentence\n",
    "* Character to be removed\n",
    "* Starting index (inclusive)\n",
    "* Ending index (inclusive)\n",
    "\n",
    "Few exceptions to catch: \n",
    "* Name Error if a variable is not found. Print ‘Name Error: Variable not defined’\n",
    "* Value Error if the starting index and ending index is not an integer. Print ‘Value Error: Wrong input, please enter an integer value.’\n",
    "* Type Error when adding count in the new sentence. Print ‘Type Error: Cannot add integer value with string.’\n",
    "* Index Error if the starting and ending index is out of range. Print ‘Index Error: Index is outside the range of sentence length.’\n",
    "* For other exceptions, catch Exception. Print ‘Some other error occurred.’\n",
    "\n",
    "If no exception occurred, print the new string using else block. At the end using finally, print ‘The program execution is complete’.\n",
    "\n",
    "**Example 1:** \\\n",
    "**Input:**\\\n",
    "'my python programming book'\\\n",
    "'m'\\\n",
    "2\\\n",
    "20\\\n",
    "**Output:**\\\n",
    "my python progra12ing book\\\n",
    "The program execution is complete\n",
    "\n",
    "=================\n",
    "\n",
    "**Example 2:** \\\n",
    "**Input:**\\\n",
    "'my python programming book'\\\n",
    "'m'\\\n",
    "2.5\\\n",
    "20\\\n",
    "**Output:**\\\n",
    "Value Error: Wrong input, please enter an integer value.\\\n",
    "The program execution is complete\n",
    "\n",
    "=================\n",
    "\n",
    "**Example 3:** \\\n",
    "**Input:**\\\n",
    "'my python programming book'\\\n",
    "'m'\\\n",
    "2\\\n",
    "100\\\n",
    "**Output:**\\\n",
    "Index Error: Index is outside the range of sentence length.\\\n",
    "The program execution is complete\n"
   ]
  },
  {
   "cell_type": "code",
   "execution_count": 12,
   "metadata": {
    "colab": {},
    "colab_type": "code",
    "id": "bcU6dV5BSl7d"
   },
   "outputs": [
    {
     "name": "stdout",
     "output_type": "stream",
     "text": [
      "Enter a sentence: my python programming book\n",
      "Enter a word: m\n",
      "enter starting index: 2\n",
      "enter ending index: 100\n",
      "IndexError:Index is outside the range of sentence length\n",
      "The program execution is complete\n"
     ]
    }
   ],
   "source": [
    "try:\n",
    "    sentence= input(\"Enter a sentence: \")\n",
    "    removed_char=input(\"Enter a word: \")\n",
    "    starting = int(input(\"enter starting index: \"))\n",
    "    ending= int(input(\"enter ending index: \"))\n",
    "    new = ''\n",
    "    count = 0\n",
    "    new+=sentence[0:starting]\n",
    "    for x in range(starting,ending+1):\n",
    "        if removed_char not in  sentence[x]:\n",
    "            new+=sentence[x]\n",
    "        else:\n",
    "            count += 1\n",
    "            new+=str(count)\n",
    "    print(new)\n",
    "except IndexError:\n",
    "    print(\"IndexError:Index is outside the range of sentence length\")\n",
    "except NameError:\n",
    "    print(\"NameError:Variable not defined\")\n",
    "except ValueError:\n",
    "    print(\"ValueError: Wrong input, please enter an integer value\")\n",
    "except TypeError:\n",
    "    print(\"TypeError:Can not add integer value with string\")\n",
    "except Exception:\n",
    "    print(\"Some other error occurred\")\n",
    "finally:\n",
    "    print(\"The program execution is complete\")"
   ]
  },
  {
   "cell_type": "markdown",
   "metadata": {
    "colab_type": "text",
    "id": "SjU5ufx8Snv3"
   },
   "source": [
    "### Task 7\n",
    "Read a **file** from the user which contains the  name and salary of employees. Convert that to a dictionary where the key is the name of each employee and value is the salary of that employee. Then find the total cost for the company that it needs to pay through employees’ salary. Print the dictionary and sum if no exception occurs.\n",
    "\n",
    "Exception to handle:\n",
    "* check whether file is actually there\n",
    "* Check whether the salary in each line is a number or not.\n",
    "* Raise error if there are extra numbers or names\n",
    "\n",
    "**Example 1:** \\\n",
    "**Input:**\\\n",
    "Saadat 100\\\n",
    "Farzad 200\\\n",
    "Atef 300\\\n",
    "**Output:**\\\n",
    "dict={Saadat : 100, Farzad : 200, Atef : 300}\\\n",
    "Sum = 600\n",
    "\n",
    "=================\n",
    "\n",
    "**Example 2:** \\\n",
    "**Input:**\\\n",
    "Saadat 100\\\n",
    "Farzad 200\\\n",
    "Atef 300\\\n",
    "John\\\n",
    "**Output:**\\\n",
    "Extra Statement\n"
   ]
  },
  {
   "cell_type": "code",
   "execution_count": 4,
   "metadata": {
    "colab": {},
    "colab_type": "code",
    "id": "SUxJ1iCXUAPg"
   },
   "outputs": [
    {
     "name": "stdout",
     "output_type": "stream",
     "text": [
      "{'Arif': 100, 'Asad': 200, 'Anika': 300}\n",
      "sum= 600\n"
     ]
    }
   ],
   "source": [
    "try:\n",
    "    file = open(\"salary.txt\",\"r\")\n",
    "    read_file=file.read()\n",
    "    splitted_file=read_file.split()\n",
    "    new_dict={}\n",
    "    sum=0\n",
    "    if(len(splitted_file))%2!=0:\n",
    "        raise IndexError()\n",
    "    for index in range(len(splitted_file)):\n",
    "        if index %2==0:\n",
    "            new_dict[splitted_file[index]]=int(splitted_file[index+1])\n",
    "            sum+=int(splitted_file[index+1])\n",
    "except FileNotFoundError:\n",
    "    print(\"File not found\")\n",
    "except ValueError:\n",
    "    print(\"Provide a number\")\n",
    "except IndexError:\n",
    "    print(\"There are some extra element\")\n",
    "else:\n",
    "    print(new_dict)\n",
    "    print(\"sum=\",sum)\n"
   ]
  },
  {
   "cell_type": "markdown",
   "metadata": {
    "colab_type": "text",
    "id": "GC6Y943uUNHY"
   },
   "source": [
    "### Task 8\n",
    "Imagine Salman Khan is going to the sets of a new movie. He decides to cycle everyday on his way to the sets. For that he uses a distance calculator which finds the distance based on the present day's date, which is asked as an input from the user. You should first take the day and then the month as your inputs.\n",
    "The inputs should be stored in variables named `day` and `month` The distance calculator uses the following formulae to calculate a number which dictates the number of kilometers he must cycle on his way to work.\n",
    "\n",
    "Exceptions to handle:\\\n",
    "-Check for 0 division error exception\\\n",
    "-Type error exception when taking date as input\\\n",
    "-Value error exception, as day can not be greater than 31 and month can not be greater than 12\n",
    "\n",
    "\n",
    "\n",
    "\n",
    "\n",
    "\n",
    "\n",
    "\n",
    "\n",
    "\n",
    "\n",
    "\n",
    "\n",
    "\n",
    "Distance = |if day<10, `5+(day*2)/month`\\\n",
    "&nbsp;&nbsp;&nbsp;&nbsp;&nbsp;&nbsp;&nbsp;&nbsp;&nbsp;&nbsp;&nbsp;&nbsp;&nbsp;&nbsp;&nbsp;&nbsp;&nbsp;&nbsp;&nbsp; |else, `3+(day/month)`\n",
    "\n",
    "\n",
    "**Example 1:** \\\n",
    "**Input:**\\\n",
    "3\\\n",
    "5\\\n",
    "**Output:**\\\n",
    "6.2 kilometres\n",
    "\n",
    "=================\n",
    "\n",
    "**Example 2:** \\\n",
    "**Input:**\\\n",
    "2\\\n",
    "0\\\n",
    "**Output:**\\\n",
    "0 is not a valid month\n",
    "\n",
    "**Example 3:** \\\n",
    "**Input:**\\\n",
    "35\\\n",
    "12\\\n",
    "**Output:**\\\n",
    "35 is not a valid day of any month\n",
    "\n",
    "\n",
    "**Example 4:** \\\n",
    "**Input:**\\\n",
    "Hello\\\n",
    "12\\\n",
    "**Output:**\\\n",
    "Please do not enter any string as input\n",
    "\n",
    "\n",
    "**Example 5:** \\\n",
    "**Input:**\\\n",
    "15\\\n",
    "12\\\n",
    "**Output:**\\\n",
    "4.25 kilometres\n",
    "\n",
    "\n",
    "\n",
    "\n"
   ]
  },
  {
   "cell_type": "code",
   "execution_count": 6,
   "metadata": {
    "colab": {},
    "colab_type": "code",
    "id": "fg9mQUaEWH7a"
   },
   "outputs": [
    {
     "name": "stdout",
     "output_type": "stream",
     "text": [
      "Enter day: 15\n",
      "Enter month: 12\n",
      "4.25 Kilometers\n"
     ]
    }
   ],
   "source": [
    "try:\n",
    "    day = input(\"Enter day: \")\n",
    "    month = input(\"Enter month: \")\n",
    "    if day.isalpha():\n",
    "        raise TypeError\n",
    "    day = int(day)\n",
    "    if day > 31:\n",
    "        raise ValueError\n",
    "    month = int(month)\n",
    "    if month > 12:\n",
    "        raise ValueError\n",
    "    if day < 10:\n",
    "        print(5+(day*2)/month,\"Kilometers\")\n",
    "    else:\n",
    "        print(3+(day/month),\"Kilometers\")\n",
    "except ZeroDivisionError:\n",
    "    print(month,\"is not a valid month\")\n",
    "except ValueError:\n",
    "    print(day,\"is not a valid day of any month\")\n",
    "except TypeError:\n",
    "    print(day,\"Please do not enter any string as input\")\n"
   ]
  },
  {
   "cell_type": "markdown",
   "metadata": {
    "colab_type": "text",
    "id": "2Xzq6xJNWvbf"
   },
   "source": [
    "### Task 9\n",
    "Write a python program to make a calculator. The user must input a string consisting of a number, operator and another number separated by white spaces.\n",
    "* If the user’s input does not contain 3 elements, raise an exception error stating “Input does not contain 3 elements/Wrong operator”.\n",
    "* If the user inputs any other values except numbers in first and third position of the input, raise value error exception stating “Input does not contain numbers.” \n",
    "* If the user does not input ‘+’ or ‘-’ or ’/’ or ‘*’ or ‘%’ in second position of the input, again raise an exception stating “Input does not contain 3 elements/Wrong operator”.\n",
    "* In case of division, also handle divide by zero exception.\n",
    "\n",
    "If all the inputs are correct, calculate the result and print the value.\n",
    "\n",
    "**Example 1:** \\\n",
    "**Input:**\\\n",
    "1 + 1 + 1\\\n",
    "**Output:**\\\n",
    "Input does not contain 3 elements/Wrong operator\n",
    "\n",
    "=================\n",
    "\n",
    "**Example 2:** \\\n",
    "**Input:**\\\n",
    "A * B\\\n",
    "**Output:**\\\n",
    "Input does not contain numbers.\n",
    "\n",
    "=================\n",
    "\n",
    "**Example 3:** \\\n",
    "**Input:**\\\n",
    "1 $ 3\\\n",
    "**Output:**\\\n",
    "Input does not contain 3 elements/Wrong operator\n",
    "\n",
    "=================\n",
    "\n",
    "**Example 4:** \\\n",
    "**Input:**\\\n",
    "1 + 1\\\n",
    "**Output:**\\\n",
    "The answer is : 2\n"
   ]
  },
  {
   "cell_type": "code",
   "execution_count": 2,
   "metadata": {
    "colab": {},
    "colab_type": "code",
    "id": "vX2d7DiVXbhc"
   },
   "outputs": [
    {
     "ename": "TypeError",
     "evalue": "'str' object is not callable",
     "output_type": "error",
     "traceback": [
      "\u001b[1;31m---------------------------------------------------------------------------\u001b[0m",
      "\u001b[1;31mTypeError\u001b[0m                                 Traceback (most recent call last)",
      "\u001b[1;32m<ipython-input-2-7821613dc34f>\u001b[0m in \u001b[0;36m<module>\u001b[1;34m\u001b[0m\n\u001b[1;32m----> 1\u001b[1;33m \u001b[0minput\u001b[0m \u001b[1;33m=\u001b[0m \u001b[0minput\u001b[0m\u001b[1;33m(\u001b[0m\u001b[1;34m\"Enter a string consisting of a number, operator separated by white spaces: \"\u001b[0m\u001b[1;33m)\u001b[0m\u001b[1;33m\u001b[0m\u001b[1;33m\u001b[0m\u001b[0m\n\u001b[0m\u001b[0;32m      2\u001b[0m \u001b[1;32mtry\u001b[0m\u001b[1;33m:\u001b[0m\u001b[1;33m\u001b[0m\u001b[1;33m\u001b[0m\u001b[0m\n\u001b[0;32m      3\u001b[0m     \u001b[0mindexNumber1st\u001b[0m \u001b[1;33m=\u001b[0m \u001b[0mint\u001b[0m\u001b[1;33m(\u001b[0m\u001b[0minput\u001b[0m\u001b[1;33m[\u001b[0m\u001b[1;36m0\u001b[0m\u001b[1;33m]\u001b[0m\u001b[1;33m)\u001b[0m\u001b[1;33m\u001b[0m\u001b[1;33m\u001b[0m\u001b[0m\n\u001b[0;32m      4\u001b[0m     \u001b[0mindexOperator\u001b[0m \u001b[1;33m=\u001b[0m \u001b[0minput\u001b[0m\u001b[1;33m[\u001b[0m\u001b[1;36m2\u001b[0m\u001b[1;33m]\u001b[0m\u001b[1;33m\u001b[0m\u001b[1;33m\u001b[0m\u001b[0m\n\u001b[0;32m      5\u001b[0m     \u001b[0mindexNumber2nd\u001b[0m \u001b[1;33m=\u001b[0m \u001b[0mint\u001b[0m\u001b[1;33m(\u001b[0m\u001b[0minput\u001b[0m\u001b[1;33m[\u001b[0m\u001b[1;36m4\u001b[0m\u001b[1;33m]\u001b[0m\u001b[1;33m)\u001b[0m\u001b[1;33m\u001b[0m\u001b[1;33m\u001b[0m\u001b[0m\n",
      "\u001b[1;31mTypeError\u001b[0m: 'str' object is not callable"
     ]
    }
   ],
   "source": [
    "input = input(\"Enter a string consisting of a number, operator separated by white spaces: \")\n",
    "try:\n",
    "    indexNumber1st = int(input[0])\n",
    "    indexOperator = input[2]\n",
    "    indexNumber2nd = int(input[4])\n",
    "    result = 0\n",
    "\n",
    "    if len(input) != 5:\n",
    "        raise Exception(\"Input does not contain 3 elements/Wrong operator\")\n",
    "    elif indexOperator is \"+\":\n",
    "        result = indexNumber1st + indexNumber2nd\n",
    "    elif indexOperator is \"-\":\n",
    "        result = indexNumber1st - indexNumber2nd\n",
    "    elif indexOperator is \"/\":\n",
    "        try:\n",
    "            result = indexNumber1st / indexNumber2nd\n",
    "        except ZeroDivisionError:\n",
    "            print(\"Can not be divided by zero\")\n",
    "    elif indexOperator is \"*\":\n",
    "        result = indexNumber1st * indexNumber2nd\n",
    "    elif indexOperator is \"%\":\n",
    "        result = indexNumber1st % indexNumber2nd\n",
    "    else:\n",
    "        raise Exception(\"Input does not contain 3 elements/Wrong operator\")\n",
    "    print(\"The answer is: \", result)\n",
    "\n",
    "except ValueError:\n",
    "    raise ValueError(\"Input does not contain numbers\")\n"
   ]
  },
  {
   "cell_type": "code",
   "execution_count": null,
   "metadata": {},
   "outputs": [],
   "source": []
  }
 ],
 "metadata": {
  "colab": {
   "collapsed_sections": [],
   "name": "CSE110 Assignment06.ipynb",
   "provenance": []
  },
  "kernelspec": {
   "display_name": "Python 3",
   "language": "python",
   "name": "python3"
  },
  "language_info": {
   "codemirror_mode": {
    "name": "ipython",
    "version": 3
   },
   "file_extension": ".py",
   "mimetype": "text/x-python",
   "name": "python",
   "nbconvert_exporter": "python",
   "pygments_lexer": "ipython3",
   "version": "3.7.6"
  }
 },
 "nbformat": 4,
 "nbformat_minor": 1
}

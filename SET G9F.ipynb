{
 "cells": [
  {
   "cell_type": "markdown",
   "metadata": {
    "colab_type": "text",
    "id": "0ZcT5c9CjT8P"
   },
   "source": [
    "# SUMMER 2020\n",
    "\n",
    "# CSE110 Final Exam\n",
    "**<font color='red'>[MUST MAINTAIN VARIABLE NAMING CONVENTIONS FOR ALL THE TASKS]</font>**\n",
    "\n",
    "**<font color='red'>[Writing comments(explanatory sentences) in any of the code is completely optional]</font>**"
   ]
  },
  {
   "cell_type": "markdown",
   "metadata": {
    "colab_type": "text",
    "id": "hQCnOmw6iWER"
   },
   "source": [
    "# Task 01\n",
    "\n",
    "Write a python program that takes a string as an input from the user and passes that input as an argument to a function which prints out the summation of all the ascii values of each character present in the string.\\\n",
    "\\\n",
    "===============================================================================================\\\n",
    "\\\n",
    "**Sample Input 1 :** \n",
    "ABC\\\n",
    "**Sample function call 1:** function_name(\"ABC\")\\\n",
    "**Sample Output:** 198\\\n",
    "**Explanation:** ascii values of 'A', 'B', and 'C' are 65, 66, and 67 respectively. So, the output should be (65+66+67)=198\n",
    "\n",
    "\n",
    "===============================================================================================\n",
    "\n",
    "\n",
    "**Sample Input 2:** Boss\\\n",
    "**Sample Output 2:** 407\\\n",
    "**Sample function call 2:** function_name(\"Boss\")\\\n",
    "**Explanation:** ascii values of 'B', 'o', and 's' are 66, 111, and 115 respectively. So, the output should be (66+111+115+115)=407\n",
    "\n",
    "\n"
   ]
  },
  {
   "cell_type": "code",
   "execution_count": 2,
   "metadata": {
    "colab": {},
    "colab_type": "code",
    "id": "P0vIwmbeiWEU"
   },
   "outputs": [
    {
     "name": "stdout",
     "output_type": "stream",
     "text": [
      "Enter a string:boss\n",
      "439\n"
     ]
    }
   ],
   "source": [
    "word = input(\"Enter a string:\")\n",
    "def function_call(word):\n",
    "    total = 0\n",
    "    for char in word:\n",
    "        alphabet = ord(char)\n",
    "        total += alphabet\n",
    "\n",
    "    print(total)\n",
    "function_call(word)\n"
   ]
  },
  {
   "cell_type": "markdown",
   "metadata": {
    "colab_type": "text",
    "id": "zUyYKkWViWEd"
   },
   "source": [
    "# Task 02\n",
    "Write a python function format_sentence() that takes a sentence and a boolean as parameters. The boolean is optional. The function will then convert the characters of the sentence according to the boolean parameter.\\\n",
    "\\\n",
    "**1)** If no boolean parameter is passed, the function will return a sentence of all lower case.\\\n",
    "**2)** If the value of the boolean argument is False, the function will return a sentence of all lower case.\\\n",
    "**3)** If the value of the boolean parameter is True, the function will return a sentence of all upper case.\\\n",
    "\\\n",
    "<font color = 'red'>**You cannot use lower() or upper() functions here.**</font>\n",
    "\\\n",
    "\\\n",
    "===============================================================================================\\\n",
    "\\\n",
    "**Sample function call 1:** print(format_sentence('I am a student of BRAC University'))\\\n",
    "**Sample output 1:** i am a student of brac university\\\n",
    "**Explanation:** There is no boolean parameter passed. Therefore, the function returns a string of all lower case\\\n",
    "\\\n",
    "===============================================================================================\\\n",
    "\\\n",
    "**Sample function call 2:** print(format_sentence('I am a student of BRAC University', False))\\\n",
    "**Sample output 2:** i am a student of brac university\\\n",
    "**Explanation:** The boolean parameter is False. Therefore, the function returns a string of all lower case\\\n",
    "\\\n",
    "===============================================================================================\\\n",
    "\\\n",
    "**Sample function call 3:** print(format_sentence('I am a student of BRAC University', True))\\\n",
    "**Sample output 3:** I AM A STUDENT OF BRAC UNIVERSITY\\\n",
    "**Explanation:** The boolean parameter is True. Therefore, the function returns a string of all upper case\n",
    "\n",
    "\n"
   ]
  },
  {
   "cell_type": "code",
   "execution_count": 8,
   "metadata": {
    "colab": {},
    "colab_type": "code",
    "id": "_oEJ6XwgiWEh"
   },
   "outputs": [
    {
     "name": "stdout",
     "output_type": "stream",
     "text": [
      "Enter a sentence:Manchester United is the best club in the world\n",
      "Enter a boolean:True\n",
      "MANCHESTER UNITED IS THE BEST CLUB IN THE WORLD\n"
     ]
    }
   ],
   "source": [
    "def format_sentence(sentence, boolean):\n",
    "    if boolean == \"\":\n",
    "        sentence = sentence.lower()\n",
    "        return sentence\n",
    "\n",
    "    if boolean == \"True\":\n",
    "        sentence = sentence.upper()\n",
    "        return sentence\n",
    "\n",
    "    elif boolean == \"False\":\n",
    "        sentence = sentence.lower()\n",
    "\n",
    "        return sentence\n",
    "\n",
    "\n",
    "sen = input(\"Enter a sentence:\")\n",
    "\n",
    "bol = input(\"Enter a boolean:\")\n",
    "\n",
    "print(format_sentence(sen, bol))"
   ]
  },
  {
   "cell_type": "markdown",
   "metadata": {
    "colab_type": "text",
    "id": "CEhXrQIhiWEo"
   },
   "source": [
    "# Task 03\n",
    "\n",
    "Write a function named **prime_divisors** that takes a number as parameter and returns True if all the divisors of the number (except 1 and the number itself) are prime numbers or else the function returns False.\n",
    "For example, 15 has 4 divisors. 1,3,5,15. If we exclude 1 and 15, both 3 and 5 are prime numbers, so the function returns True.\n",
    "\n",
    "\n",
    "===============================================================================================\n",
    "\n",
    "\n",
    "**Sample Function call 1:** print(prime_divisors(15))\n",
    "\n",
    "**Sample Output 1:** True\n",
    "\n",
    "**Explanation:** 15 has 4 divisors. 1, 3, 5, 15. If we exclude 1 and 15, both 3 and 5 are prime number. Hence, the function will return True.\n",
    "\n",
    "\n",
    "===============================================================================================\n",
    "\n",
    "\n",
    "**Sample Function call 2:** print(prime_divisors(6))\n",
    "\n",
    "**Sample Output 2:** True\n",
    "\n",
    "**Explanation:** 5 has 4 divisors. 1, 2, 3, 6. If we exclude 1 and 6, both 2 and 3 are prime number. Hence, the function will return True.\n",
    "\n",
    "===============================================================================================\n",
    "\n",
    "\n",
    "**Sample Function call 3:** print(prime_divisors(8))\n",
    "\n",
    "**Sample Output 3:** False\n",
    "\n",
    "**Explanation:** 8 has 4 divisors. 1, 2, 4, 8.  we exclude 1 and 8, there are still 2 and 4. Among these, 4 is not a prime number. So, the function will return False.\n",
    "\n"
   ]
  },
  {
   "cell_type": "code",
   "execution_count": 2,
   "metadata": {
    "colab": {},
    "colab_type": "code",
    "id": "gWQIR06LiWEp"
   },
   "outputs": [
    {
     "name": "stdout",
     "output_type": "stream",
     "text": [
      "15\n",
      "True\n"
     ]
    }
   ],
   "source": [
    "def prime_divisors(num):\n",
    "    state = True\n",
    "    x = int(num)\n",
    "    \n",
    "    # outer loop for finding divisors\n",
    "    for i in range(2, x-1):\n",
    "        if (x % i) == 0 and state == True:\n",
    "            secondary = i\n",
    "            \n",
    "            #Inner loop for finding if the divisors are prime or not\n",
    "            for j in range(2, secondary-1):\n",
    "                if (secondary % j) == 0:\n",
    "                    state = False\n",
    "                    break\n",
    "    return state\n",
    "\n",
    "\n",
    "num = int(input())\n",
    "print(prime_divisors(num))\n"
   ]
  },
  {
   "cell_type": "code",
   "execution_count": null,
   "metadata": {},
   "outputs": [],
   "source": []
  }
 ],
 "metadata": {
  "colab": {
   "collapsed_sections": [],
   "name": "Set_5.ipynb",
   "provenance": []
  },
  "kernelspec": {
   "display_name": "Python 3",
   "language": "python",
   "name": "python3"
  },
  "language_info": {
   "codemirror_mode": {
    "name": "ipython",
    "version": 3
   },
   "file_extension": ".py",
   "mimetype": "text/x-python",
   "name": "python",
   "nbconvert_exporter": "python",
   "pygments_lexer": "ipython3",
   "version": "3.7.6"
  }
 },
 "nbformat": 4,
 "nbformat_minor": 1
}

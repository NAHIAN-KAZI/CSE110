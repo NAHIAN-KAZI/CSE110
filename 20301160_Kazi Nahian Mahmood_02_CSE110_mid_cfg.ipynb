{
 "cells": [
  {
   "cell_type": "markdown",
   "metadata": {
    "colab_type": "text",
    "id": "0ZcT5c9CjT8P"
   },
   "source": [
    "# SUMMER 2020\n",
    "\n",
    "# CSE110 MID\n",
    "**<font color='red'>[MUST MAINTAIN VARIABLE NAMING CONVENTIONS FOR ALL THE TASKS]</font>**\n",
    "\n",
    "**<font color='red'>[Writing comments(explanatory sentences) in any of the code is completely optional]</font>**"
   ]
  },
  {
   "cell_type": "markdown",
   "metadata": {
    "colab_type": "text",
    "id": "hQCnOmw6iWER"
   },
   "source": [
    "# Task 01\n",
    "Mrs. Flintstone has recently started following a healthy lifestyle. She buys all her vegetables and fruits from a local organic food seller who offers her a discount depending on the total bill amount. The price of one kg mango is **120 taka**, the price of one kg orange is **220 taka** and the price of 1 kg lychee is **400** taka. The table below shows the discount she will get on her total amount.\n",
    "\n",
    "\n",
    "\n",
    "\n",
    "\n",
    "\n",
    "|Total Amount (TK)|Discount (TK)|\n",
    "|------|------|\n",
    "|0 - 450|No Discount|\n",
    "|451 - 699|25|\n",
    "|700 - 849 |50|\n",
    "|850 - 1599|150|\n",
    "|>= 1600|250|\n",
    "\n",
    "Write a python program and take three inputs from the user. The first input will be the number of mangos in kgs, the second input will be the number of oranges in kgs and the last input will be the amount of lychee in kgs. Based on the price of each fruit, calculate the total amount that Mrs. Flintstone will have to pay.  \n",
    "\n",
    " ================================\n",
    "\n",
    "\n",
    "**Sample input(1):**\\\n",
    "2\\\n",
    "1\\\n",
    "2\n",
    "\n",
    "\n",
    "**Sample Output(1):**\\\n",
    "Previous total: 1260\\\n",
    "New total after discount: 1110\n",
    "\n",
    "\n",
    "*Explanation(1): 2 * 120 + 1 * 220 + 2 * 400 = 1260Tk was her bill without discount.  For 1260Tk, the discount amount is 150 Tk. So, her new bill with a discount is (1260-150)= 1110Tk*\n",
    "\n",
    "================================\n",
    "\n",
    "**Sample input 2:**\\\n",
    "0\\\n",
    "0\\\n",
    "1\n",
    "\n",
    "\n",
    "\n",
    "\n",
    "**Sample output 2:**\\\n",
    "Previous total: 400\\\n",
    "New total after discount: 400\n",
    "\n",
    "\n",
    "\n",
    "*Explanation(2):   0 * 120 + 0 * 220 + 1 * 400 = 400Tk was her bill without discount.  For 400Tk, the discount amount is 0Tk. So, her new bill with a discount is (400-0)= 400Tk.*\n",
    "\n",
    "\n",
    "\n"
   ]
  },
  {
   "cell_type": "code",
   "execution_count": 3,
   "metadata": {
    "colab": {},
    "colab_type": "code",
    "id": "P0vIwmbeiWEU"
   },
   "outputs": [
    {
     "name": "stdout",
     "output_type": "stream",
     "text": [
      "Enter how many mangos in kg:1\n",
      "Enter how many oranges in kg:2\n",
      "Enter how many lychee in kg:2\n",
      "New total after discount:  1210 Tk\n"
     ]
    }
   ],
   "source": [
    "mango = int(input(\"Enter how many mangos in kg:\"))\n",
    "orange = int(input(\"Enter how many oranges in kg:\"))\n",
    "lychee = int(input(\"Enter how many lychee in kg:\"))\n",
    "total_amount = mango*120 + orange*220 +lychee*400\n",
    "if(total_amount <= 450):\n",
    "    print(\"no discount\")\n",
    "elif(total_amount > 450 and total_amount <= 699):\n",
    "    print(\"New total after discount: \", total_amount - 25,\"Tk\")\n",
    "elif(total_amount > 699 and total_amount <= 849):\n",
    "    print(\"New total after discount: \", total_amount-50,\"Tk\")\n",
    "elif(total_amount > 849 and total_amount <= 1599):\n",
    "    print(\"New total after discount: \", total_amount-150,\"Tk\")\n",
    "elif(total_amount >+ 1600):\n",
    "    print(\"New total after discount: \", total_amount-250,\"Tk\")\n",
    "\n"
   ]
  },
  {
   "cell_type": "markdown",
   "metadata": {
    "colab_type": "text",
    "id": "zUyYKkWViWEd"
   },
   "source": [
    "# Task 02\n",
    "Write a python program that takes a number as input from the user and prints the summation of all the even digits.”  \n",
    "\n",
    "\n",
    "*hint: consider 0 as even number*\n",
    "\n",
    "\n",
    "\n",
    "\n",
    " \n",
    "  ================================\n",
    " \n",
    "**Sample input 1:**\\\n",
    "234567\\\n",
    "**Sample output 1:**\\\n",
    "12*\\\n",
    "Explanation: even digits of 234567 are 2,4,6. 2+4+6=12*\n",
    "\n",
    " \n",
    "  ================================\n",
    "\n",
    "**Sample input 2:**\\\n",
    "24499  \\\n",
    "**Sample output 2:**\\\n",
    "10\\\n",
    "*Explanation: even digits of 24499 are 2,4,4. 2+4+4=10*\n"
   ]
  },
  {
   "cell_type": "code",
   "execution_count": 7,
   "metadata": {
    "colab": {},
    "colab_type": "code",
    "id": "_oEJ6XwgiWEh"
   },
   "outputs": [
    {
     "name": "stdout",
     "output_type": "stream",
     "text": [
      "Enter a Number12345678\n",
      "20\n"
     ]
    }
   ],
   "source": [
    "number=input(\"Enter a Number\")\n",
    "sum=0;\n",
    "for i in str(number):\n",
    "  if(int(i)%2==0):\n",
    "    sum+=int(i)\n",
    "print(sum)"
   ]
  },
  {
   "cell_type": "markdown",
   "metadata": {
    "colab_type": "text",
    "id": "CEhXrQIhiWEo"
   },
   "source": [
    "# Task 03\n",
    "Write a program that takes a **string** as input and prints “Binary Number” if the string contains only 0s or 1s. Otherwise, print “Not a Binary Number”.\n",
    "\n",
    "**<font color='red'>( you have to use a loop)**\n",
    "\n",
    "*hints: consider 0 as even number*\n",
    "\n",
    "\n",
    "\n",
    "\n",
    " \n",
    "  ================================\n",
    " \n",
    "**Sample input 1:**\\\n",
    "01101101101\\\n",
    "**Sample output 1:**\\\n",
    "Binary Number\n",
    "\n",
    "  ================================\n",
    "\n",
    "**Sample input 2:**\\\n",
    "12344ab0 \\\n",
    "**Sample output 2:**\\\n",
    "Not a Binary Number"
   ]
  },
  {
   "cell_type": "code",
   "execution_count": 1,
   "metadata": {
    "colab": {},
    "colab_type": "code",
    "id": "gWQIR06LiWEp"
   },
   "outputs": [
    {
     "name": "stdout",
     "output_type": "stream",
     "text": [
      "Enter a string:0111000101010\n",
      "Binary number\n"
     ]
    }
   ],
   "source": [
    "string = input(\"Enter a string:\")\n",
    "for x in string:\n",
    "    if \"0\" and \"1\" in string:\n",
    "        print(\"Binary number\")\n",
    "        break\n",
    "    else:\n",
    "        print(\"Not a binary number\")\n",
    "        break\n",
    "    \n",
    "\n"
   ]
  },
  {
   "cell_type": "code",
   "execution_count": null,
   "metadata": {},
   "outputs": [],
   "source": []
  }
 ],
 "metadata": {
  "colab": {
   "collapsed_sections": [],
   "name": "set 10.ipynb",
   "provenance": []
  },
  "kernelspec": {
   "display_name": "Python 3",
   "language": "python",
   "name": "python3"
  },
  "language_info": {
   "codemirror_mode": {
    "name": "ipython",
    "version": 3
   },
   "file_extension": ".py",
   "mimetype": "text/x-python",
   "name": "python",
   "nbconvert_exporter": "python",
   "pygments_lexer": "ipython3",
   "version": "3.7.6"
  }
 },
 "nbformat": 4,
 "nbformat_minor": 1
}
